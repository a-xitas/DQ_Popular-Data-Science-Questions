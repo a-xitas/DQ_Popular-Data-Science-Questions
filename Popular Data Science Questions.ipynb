{
 "cells": [
  {
   "cell_type": "markdown",
   "metadata": {},
   "source": [
    "## Popular Data Science Questions\n",
    "#### (exploring the family of Stack Exchange Websites)"
   ]
  },
  {
   "cell_type": "markdown",
   "metadata": {},
   "source": [
    "## === Prelude ===\n",
    "\n",
    "#### The Stack Exchange Websites welcomes every type of questions related to the subject in matter. For example, the Stack Exchange Website related to Data Science is populated with questions and queries related to the subject of Data Science. They vary from how to plot a graph, to questions related to a programming language such as Python.\n",
    "#### The range of subdivisions on the Data Science Stack Exchange (DSSE) go from popular libraries like Pandas, Keras, Tensorflow to the programming language Python, passing trough Statistics, Predictive-modeling, Time-series, regression, etc. \n",
    "#### Apart from all this information, we can also explore all the Questions that were made in the website, and some data related to them, such as how many answers each question had, votes, views.\n",
    "#### Maybe we could take the approach of using as a proxy the most popular - most viewed, most answered, and most voted - questions/tags as one of the hottest topics for Data Science enthusiasts."
   ]
  },
  {
   "cell_type": "markdown",
   "metadata": {
    "collapsed": true
   },
   "source": [
    "#### After drilling down into the several tables available in the Stack Exchange Data Explorer (SEDE) - https://data.stackexchange.com/datascience/query/new - we found that the most valuable ones for our strategy would be both the *Posts* as the *Tags*. Combining both tables we can get a good insight into the most popular Data Science topics, the ones with most comments, favorites, and most answered ones, and combine that data with the *Tags* being more frequently used. "
   ]
  },
  {
   "cell_type": "markdown",
   "metadata": {
    "collapsed": true
   },
   "source": [
    "#### After running the following query: \n",
    "``` mysql\n",
    "SELECT PostTypeId as type_of_posts, COUNT(*) as nº_of_posts\n",
    "  FROM Posts\n",
    " GROUP BY PostTypeId\n",
    "   ORDER BY nº_of_posts DESC;\n",
    "```\n",
    "### Findings:\n",
    "\n",
    "#### - One could check that the two most numerous post types are the 2 and the 1, *Answer* and *Question*. Let's now focus on the Questions side. \n",
    "### Now, pulling the data for the *Posts* related only to the recent Questions - from 2019 onwards:\n",
    "``` mysql\n",
    "SELECT Id, \n",
    "       PostTypeId, \n",
    "       CreationDate, \n",
    "       Score, \n",
    "       ViewCount, \n",
    "       Tags, \n",
    "       AnswerCount, \n",
    "       FavoriteCount\n",
    "  FROM Posts\n",
    " WHERE PostTypeId = 1 AND CreationDate >= '2019-01-01'\n",
    "ORDER BY CreationDate;\n",
    "```\n"
   ]
  },
  {
   "cell_type": "markdown",
   "metadata": {},
   "source": [
    "### Now lets read into the file created from the query above:"
   ]
  },
  {
   "cell_type": "code",
   "execution_count": 1,
   "metadata": {
    "collapsed": false
   },
   "outputs": [
    {
     "data": {
      "text/html": [
       "<div>\n",
       "<style scoped>\n",
       "    .dataframe tbody tr th:only-of-type {\n",
       "        vertical-align: middle;\n",
       "    }\n",
       "\n",
       "    .dataframe tbody tr th {\n",
       "        vertical-align: top;\n",
       "    }\n",
       "\n",
       "    .dataframe thead th {\n",
       "        text-align: right;\n",
       "    }\n",
       "</style>\n",
       "<table border=\"1\" class=\"dataframe\">\n",
       "  <thead>\n",
       "    <tr style=\"text-align: right;\">\n",
       "      <th></th>\n",
       "      <th>Id</th>\n",
       "      <th>CreationDate</th>\n",
       "      <th>Score</th>\n",
       "      <th>ViewCount</th>\n",
       "      <th>Tags</th>\n",
       "      <th>AnswerCount</th>\n",
       "      <th>FavoriteCount</th>\n",
       "    </tr>\n",
       "  </thead>\n",
       "  <tbody>\n",
       "    <tr>\n",
       "      <th>6631</th>\n",
       "      <td>63882</td>\n",
       "      <td>2019-11-27 19:06:27</td>\n",
       "      <td>1</td>\n",
       "      <td>9</td>\n",
       "      <td>&lt;nlp&gt;&lt;reinforcement-learning&gt;&lt;chatbot&gt;</td>\n",
       "      <td>0</td>\n",
       "      <td>NaN</td>\n",
       "    </tr>\n",
       "    <tr>\n",
       "      <th>3139</th>\n",
       "      <td>48531</td>\n",
       "      <td>2019-04-03 15:16:24</td>\n",
       "      <td>45</td>\n",
       "      <td>7278</td>\n",
       "      <td>&lt;data-wrangling&gt;</td>\n",
       "      <td>9</td>\n",
       "      <td>16.0</td>\n",
       "    </tr>\n",
       "    <tr>\n",
       "      <th>1076</th>\n",
       "      <td>45807</td>\n",
       "      <td>2019-02-19 12:08:37</td>\n",
       "      <td>2</td>\n",
       "      <td>65</td>\n",
       "      <td>&lt;python&gt;&lt;time-series&gt;&lt;machine-learning-model&gt;&lt;...</td>\n",
       "      <td>1</td>\n",
       "      <td>1.0</td>\n",
       "    </tr>\n",
       "    <tr>\n",
       "      <th>4981</th>\n",
       "      <td>62373</td>\n",
       "      <td>2019-10-29 17:40:53</td>\n",
       "      <td>0</td>\n",
       "      <td>9</td>\n",
       "      <td>&lt;deep-learning&gt;&lt;lstm&gt;&lt;word2vec&gt;&lt;word-embedding...</td>\n",
       "      <td>0</td>\n",
       "      <td>NaN</td>\n",
       "    </tr>\n",
       "    <tr>\n",
       "      <th>6768</th>\n",
       "      <td>64487</td>\n",
       "      <td>2019-12-09 15:06:25</td>\n",
       "      <td>0</td>\n",
       "      <td>26</td>\n",
       "      <td>&lt;clustering&gt;&lt;feature-engineering&gt;&lt;features&gt;</td>\n",
       "      <td>0</td>\n",
       "      <td>NaN</td>\n",
       "    </tr>\n",
       "  </tbody>\n",
       "</table>\n",
       "</div>"
      ],
      "text/plain": [
       "         Id        CreationDate  Score  ViewCount  \\\n",
       "6631  63882 2019-11-27 19:06:27      1          9   \n",
       "3139  48531 2019-04-03 15:16:24     45       7278   \n",
       "1076  45807 2019-02-19 12:08:37      2         65   \n",
       "4981  62373 2019-10-29 17:40:53      0          9   \n",
       "6768  64487 2019-12-09 15:06:25      0         26   \n",
       "\n",
       "                                                   Tags  AnswerCount  \\\n",
       "6631             <nlp><reinforcement-learning><chatbot>            0   \n",
       "3139                                   <data-wrangling>            9   \n",
       "1076  <python><time-series><machine-learning-model><...            1   \n",
       "4981  <deep-learning><lstm><word2vec><word-embedding...            0   \n",
       "6768        <clustering><feature-engineering><features>            0   \n",
       "\n",
       "      FavoriteCount  \n",
       "6631            NaN  \n",
       "3139           16.0  \n",
       "1076            1.0  \n",
       "4981            NaN  \n",
       "6768            NaN  "
      ]
     },
     "execution_count": 1,
     "metadata": {},
     "output_type": "execute_result"
    }
   ],
   "source": [
    "# Importing Libraries:\n",
    "import numpy as np\n",
    "import pandas as pd\n",
    "import matplotlib.pyplot as plt\n",
    "from itertools import chain\n",
    "%matplotlib inline\n",
    "\n",
    "# Reading into the file:\n",
    "posts = pd.read_csv('2019_questions.csv', parse_dates=['CreationDate'])\n",
    "\n",
    "# Creating a sample of five rows from the newly created posts DataFrame:\n",
    "posts.sample(5)\n"
   ]
  },
  {
   "cell_type": "code",
   "execution_count": 2,
   "metadata": {
    "collapsed": false
   },
   "outputs": [
    {
     "name": "stdout",
     "output_type": "stream",
     "text": [
      "<class 'pandas.core.frame.DataFrame'>\n",
      "RangeIndex: 8839 entries, 0 to 8838\n",
      "Data columns (total 7 columns):\n",
      "Id               8839 non-null int64\n",
      "CreationDate     8839 non-null datetime64[ns]\n",
      "Score            8839 non-null int64\n",
      "ViewCount        8839 non-null int64\n",
      "Tags             8839 non-null object\n",
      "AnswerCount      8839 non-null int64\n",
      "FavoriteCount    1407 non-null float64\n",
      "dtypes: datetime64[ns](1), float64(1), int64(4), object(1)\n",
      "memory usage: 483.5+ KB\n"
     ]
    }
   ],
   "source": [
    "# Checking the structure of the different cols in the Dataframe:\n",
    "posts.info()"
   ]
  },
  {
   "cell_type": "code",
   "execution_count": 3,
   "metadata": {
    "collapsed": false
   },
   "outputs": [
    {
     "data": {
      "text/plain": [
       "NaN      7432\n",
       " 1.0      953\n",
       " 2.0      205\n",
       " 0.0      175\n",
       " 3.0       43\n",
       " 4.0       12\n",
       " 5.0        8\n",
       " 6.0        4\n",
       " 7.0        4\n",
       " 11.0       1\n",
       " 8.0        1\n",
       " 16.0       1\n",
       "Name: FavoriteCount, dtype: int64"
      ]
     },
     "execution_count": 3,
     "metadata": {},
     "output_type": "execute_result"
    }
   ],
   "source": [
    "# Searching for null values in the FavoriteCount column:\n",
    "posts['FavoriteCount'].value_counts(dropna=False)"
   ]
  },
  {
   "cell_type": "code",
   "execution_count": 4,
   "metadata": {
    "collapsed": false
   },
   "outputs": [
    {
     "data": {
      "text/plain": [
       "<machine-learning>             118\n",
       "<python><pandas>                58\n",
       "<python>                        55\n",
       "<r>                             38\n",
       "<tensorflow>                    36\n",
       "<nlp>                           35\n",
       "<neural-network>                35\n",
       "<reinforcement-learning>        32\n",
       "<deep-learning>                 29\n",
       "<keras>                         29\n",
       "<time-series>                   26\n",
       "<keras><tensorflow>             24\n",
       "<machine-learning><python>      23\n",
       "<classification>                23\n",
       "<python><pandas><dataframe>     22\n",
       "Name: Tags, dtype: int64"
      ]
     },
     "execution_count": 4,
     "metadata": {},
     "output_type": "execute_result"
    }
   ],
   "source": [
    "posts['Tags'].value_counts()[:15]"
   ]
  },
  {
   "cell_type": "markdown",
   "metadata": {},
   "source": [
    "### Findings:\n",
    "\n",
    "#### - We have a tremendous amount of missing (NaN) datapoints in our posts Dataframe, mainly in our *FavoriteCount* column. Where 7432 datapoints, out of 8839, are NaN's. Apart from this particular col we do not have any other missing values in our Dataframe.\n",
    "####  - From a quick search we found out that this missing values might correspond to *Questions* that have never been favorited, hence felt into the *forgotten* category. And the difference between these and the 0.0 values, in the *FavoriteCount* column, is that the last were once favorited *Questions* that lost their favorited pedigree to the extent of 0.  - https://meta.stackexchange.com/questions/327680/why-do-some-questions-have-a-favorite-count-of-0-while-others-have-none\n",
    "#### - We have two solutions to fix  this missing values in our Dataframe. The first solution would be to simply erase the rows, the second solution would be to assign to all the rows that have missing values, and based on our findings, the value of 0, implying that these rows have zero favorite votes. Due to the size of the missing values in our Dataframe we would suggest to opt for the second solution, thus not losing a lot of data.\n",
    "#### - Regarding our *Tags* col we could, in order to favour the analysis, and to smooth the results, further group the column, or we could also treat each group of tags as an individual tag. But first of all we should separate each tag properly, i e, with a comma (,). "
   ]
  },
  {
   "cell_type": "markdown",
   "metadata": {},
   "source": [
    "## Cleaning the Dataset Part I"
   ]
  },
  {
   "cell_type": "markdown",
   "metadata": {},
   "source": [
    "### First let's fill in the missing values in our *FavoriteCount* column with zeros (0). And then changing the col type from a float to a integer one:\n"
   ]
  },
  {
   "cell_type": "code",
   "execution_count": 5,
   "metadata": {
    "collapsed": false
   },
   "outputs": [
    {
     "data": {
      "text/html": [
       "<div>\n",
       "<style scoped>\n",
       "    .dataframe tbody tr th:only-of-type {\n",
       "        vertical-align: middle;\n",
       "    }\n",
       "\n",
       "    .dataframe tbody tr th {\n",
       "        vertical-align: top;\n",
       "    }\n",
       "\n",
       "    .dataframe thead th {\n",
       "        text-align: right;\n",
       "    }\n",
       "</style>\n",
       "<table border=\"1\" class=\"dataframe\">\n",
       "  <thead>\n",
       "    <tr style=\"text-align: right;\">\n",
       "      <th></th>\n",
       "      <th>Id</th>\n",
       "      <th>CreationDate</th>\n",
       "      <th>Score</th>\n",
       "      <th>ViewCount</th>\n",
       "      <th>Tags</th>\n",
       "      <th>AnswerCount</th>\n",
       "      <th>FavoriteCount</th>\n",
       "    </tr>\n",
       "  </thead>\n",
       "  <tbody>\n",
       "    <tr>\n",
       "      <th>4585</th>\n",
       "      <td>61862</td>\n",
       "      <td>2019-10-17 10:49:44</td>\n",
       "      <td>0</td>\n",
       "      <td>11</td>\n",
       "      <td>&lt;classification&gt;&lt;class-imbalance&gt;&lt;weka&gt;</td>\n",
       "      <td>0</td>\n",
       "      <td>0.0</td>\n",
       "    </tr>\n",
       "    <tr>\n",
       "      <th>7419</th>\n",
       "      <td>64945</td>\n",
       "      <td>2019-12-16 23:22:28</td>\n",
       "      <td>1</td>\n",
       "      <td>45</td>\n",
       "      <td>&lt;classification&gt;&lt;clustering&gt;&lt;k-means&gt;</td>\n",
       "      <td>1</td>\n",
       "      <td>0.0</td>\n",
       "    </tr>\n",
       "    <tr>\n",
       "      <th>3846</th>\n",
       "      <td>49365</td>\n",
       "      <td>2019-04-16 03:37:57</td>\n",
       "      <td>0</td>\n",
       "      <td>12</td>\n",
       "      <td>&lt;statistics&gt;&lt;correlation&gt;&lt;probability&gt;&lt;distrib...</td>\n",
       "      <td>0</td>\n",
       "      <td>0.0</td>\n",
       "    </tr>\n",
       "    <tr>\n",
       "      <th>4939</th>\n",
       "      <td>51482</td>\n",
       "      <td>2019-05-06 09:02:09</td>\n",
       "      <td>1</td>\n",
       "      <td>91</td>\n",
       "      <td>&lt;tensorflow&gt;&lt;rnn&gt;</td>\n",
       "      <td>0</td>\n",
       "      <td>0.0</td>\n",
       "    </tr>\n",
       "    <tr>\n",
       "      <th>7805</th>\n",
       "      <td>54526</td>\n",
       "      <td>2019-06-26 08:45:30</td>\n",
       "      <td>0</td>\n",
       "      <td>18</td>\n",
       "      <td>&lt;machine-learning&gt;&lt;neural-network&gt;&lt;generative-...</td>\n",
       "      <td>0</td>\n",
       "      <td>0.0</td>\n",
       "    </tr>\n",
       "  </tbody>\n",
       "</table>\n",
       "</div>"
      ],
      "text/plain": [
       "         Id        CreationDate  Score  ViewCount  \\\n",
       "4585  61862 2019-10-17 10:49:44      0         11   \n",
       "7419  64945 2019-12-16 23:22:28      1         45   \n",
       "3846  49365 2019-04-16 03:37:57      0         12   \n",
       "4939  51482 2019-05-06 09:02:09      1         91   \n",
       "7805  54526 2019-06-26 08:45:30      0         18   \n",
       "\n",
       "                                                   Tags  AnswerCount  \\\n",
       "4585            <classification><class-imbalance><weka>            0   \n",
       "7419              <classification><clustering><k-means>            1   \n",
       "3846  <statistics><correlation><probability><distrib...            0   \n",
       "4939                                  <tensorflow><rnn>            0   \n",
       "7805  <machine-learning><neural-network><generative-...            0   \n",
       "\n",
       "      FavoriteCount  \n",
       "4585            0.0  \n",
       "7419            0.0  \n",
       "3846            0.0  \n",
       "4939            0.0  \n",
       "7805            0.0  "
      ]
     },
     "execution_count": 5,
     "metadata": {},
     "output_type": "execute_result"
    }
   ],
   "source": [
    "# Resorting to the fillna method:\n",
    "posts['FavoriteCount'] = posts['FavoriteCount'].fillna(0)\n",
    "\n",
    "# Validating the results:\n",
    "posts.sample(5)"
   ]
  },
  {
   "cell_type": "code",
   "execution_count": 6,
   "metadata": {
    "collapsed": false
   },
   "outputs": [
    {
     "name": "stdout",
     "output_type": "stream",
     "text": [
      "<class 'pandas.core.frame.DataFrame'>\n",
      "RangeIndex: 8839 entries, 0 to 8838\n",
      "Data columns (total 7 columns):\n",
      "Id               8839 non-null int64\n",
      "CreationDate     8839 non-null datetime64[ns]\n",
      "Score            8839 non-null int64\n",
      "ViewCount        8839 non-null int64\n",
      "Tags             8839 non-null object\n",
      "AnswerCount      8839 non-null int64\n",
      "FavoriteCount    8839 non-null int64\n",
      "dtypes: datetime64[ns](1), int64(5), object(1)\n",
      "memory usage: 483.5+ KB\n"
     ]
    }
   ],
   "source": [
    "# Changing the FavoriteCount col type:\n",
    "posts['FavoriteCount'] = posts['FavoriteCount'].astype(int)\n",
    "posts.info()"
   ]
  },
  {
   "cell_type": "markdown",
   "metadata": {},
   "source": [
    "### Its time now to clean the *Tags* column and separate each different tag by a  comma (,):"
   ]
  },
  {
   "cell_type": "code",
   "execution_count": 7,
   "metadata": {
    "collapsed": false
   },
   "outputs": [
    {
     "data": {
      "text/html": [
       "<div>\n",
       "<style scoped>\n",
       "    .dataframe tbody tr th:only-of-type {\n",
       "        vertical-align: middle;\n",
       "    }\n",
       "\n",
       "    .dataframe tbody tr th {\n",
       "        vertical-align: top;\n",
       "    }\n",
       "\n",
       "    .dataframe thead th {\n",
       "        text-align: right;\n",
       "    }\n",
       "</style>\n",
       "<table border=\"1\" class=\"dataframe\">\n",
       "  <thead>\n",
       "    <tr style=\"text-align: right;\">\n",
       "      <th></th>\n",
       "      <th>Id</th>\n",
       "      <th>CreationDate</th>\n",
       "      <th>Score</th>\n",
       "      <th>ViewCount</th>\n",
       "      <th>Tags</th>\n",
       "      <th>AnswerCount</th>\n",
       "      <th>FavoriteCount</th>\n",
       "    </tr>\n",
       "  </thead>\n",
       "  <tbody>\n",
       "    <tr>\n",
       "      <th>0</th>\n",
       "      <td>44419</td>\n",
       "      <td>2019-01-23 09:21:13</td>\n",
       "      <td>1</td>\n",
       "      <td>21</td>\n",
       "      <td>machine-learning,data-mining</td>\n",
       "      <td>0</td>\n",
       "      <td>0</td>\n",
       "    </tr>\n",
       "    <tr>\n",
       "      <th>1</th>\n",
       "      <td>44420</td>\n",
       "      <td>2019-01-23 09:34:01</td>\n",
       "      <td>0</td>\n",
       "      <td>25</td>\n",
       "      <td>machine-learning,regression,linear-regression,...</td>\n",
       "      <td>0</td>\n",
       "      <td>0</td>\n",
       "    </tr>\n",
       "    <tr>\n",
       "      <th>2</th>\n",
       "      <td>44423</td>\n",
       "      <td>2019-01-23 09:58:41</td>\n",
       "      <td>2</td>\n",
       "      <td>1651</td>\n",
       "      <td>python,time-series,forecast,forecasting</td>\n",
       "      <td>0</td>\n",
       "      <td>0</td>\n",
       "    </tr>\n",
       "    <tr>\n",
       "      <th>3</th>\n",
       "      <td>44427</td>\n",
       "      <td>2019-01-23 10:57:09</td>\n",
       "      <td>0</td>\n",
       "      <td>55</td>\n",
       "      <td>machine-learning,scikit-learn,pca</td>\n",
       "      <td>1</td>\n",
       "      <td>0</td>\n",
       "    </tr>\n",
       "    <tr>\n",
       "      <th>4</th>\n",
       "      <td>44428</td>\n",
       "      <td>2019-01-23 11:02:15</td>\n",
       "      <td>0</td>\n",
       "      <td>19</td>\n",
       "      <td>dataset,bigdata,data,speech-to-text</td>\n",
       "      <td>0</td>\n",
       "      <td>0</td>\n",
       "    </tr>\n",
       "  </tbody>\n",
       "</table>\n",
       "</div>"
      ],
      "text/plain": [
       "      Id        CreationDate  Score  ViewCount  \\\n",
       "0  44419 2019-01-23 09:21:13      1         21   \n",
       "1  44420 2019-01-23 09:34:01      0         25   \n",
       "2  44423 2019-01-23 09:58:41      2       1651   \n",
       "3  44427 2019-01-23 10:57:09      0         55   \n",
       "4  44428 2019-01-23 11:02:15      0         19   \n",
       "\n",
       "                                                Tags  AnswerCount  \\\n",
       "0                       machine-learning,data-mining            0   \n",
       "1  machine-learning,regression,linear-regression,...            0   \n",
       "2            python,time-series,forecast,forecasting            0   \n",
       "3                  machine-learning,scikit-learn,pca            1   \n",
       "4                dataset,bigdata,data,speech-to-text            0   \n",
       "\n",
       "   FavoriteCount  \n",
       "0              0  \n",
       "1              0  \n",
       "2              0  \n",
       "3              0  \n",
       "4              0  "
      ]
     },
     "execution_count": 7,
     "metadata": {},
     "output_type": "execute_result"
    }
   ],
   "source": [
    "# Resorting to the str.replace method in order to clean the Tags col:\n",
    "posts['Tags'] = posts['Tags'].str.replace('><', ',').str.replace('<', '').str.replace('>', '').copy()\n",
    "posts.head()"
   ]
  },
  {
   "cell_type": "markdown",
   "metadata": {
    "collapsed": true
   },
   "source": [
    "### Now lets check, from the different *Tags*, which are the most popular ones, using two distinct popularity proxies: first we will count the number of times that each Tag was used, and come up with a top5. Then we will use the parameter *ViewCount* to grasp, among the top5 most used *Tags*, which one of the five was most viewed."
   ]
  },
  {
   "cell_type": "markdown",
   "metadata": {},
   "source": [
    "### We are going to calculate the number of times each Tag was used, first by spliting on the commas (,) each individual Tag from their counterparts, then by stacking the full Dataframe that resulted from that, and finally counting the number of times that each different Tag was used:"
   ]
  },
  {
   "cell_type": "code",
   "execution_count": 8,
   "metadata": {
    "collapsed": false
   },
   "outputs": [
    {
     "name": "stdout",
     "output_type": "stream",
     "text": [
      "machine-learning    2693\n",
      "python              1814\n",
      "deep-learning       1220\n",
      "neural-network      1055\n",
      "keras                935\n",
      "dtype: int64\n"
     ]
    }
   ],
   "source": [
    "# Splitting the Tags column and counting how many times each tag appears:\n",
    "tags_count = posts['Tags'].str.split(',', expand=True).stack().value_counts()\n",
    "\n",
    "# Defining a top5 tag per number of appearance: \n",
    "tags_top5 = tags_count.head(5)\n",
    "print(tags_top5)"
   ]
  },
  {
   "cell_type": "markdown",
   "metadata": {},
   "source": [
    "## Exploring the Numbers Part I"
   ]
  },
  {
   "cell_type": "markdown",
   "metadata": {},
   "source": [
    "#### Plotting the above results:"
   ]
  },
  {
   "cell_type": "code",
   "execution_count": 9,
   "metadata": {
    "collapsed": false
   },
   "outputs": [
    {
     "data": {
      "image/png": "[encoded data removed]",
      "text/plain": [
       "<matplotlib.figure.Figure at 0x7f40c5999e10>"
      ]
     },
     "metadata": {},
     "output_type": "display_data"
    }
   ],
   "source": [
    "# Plotting the tags_top5 DataFrame in an horizontal bar graph:\n",
    "tags_top5_graph = tags_top5.plot.barh(\n",
    "                    edgecolor='none',\n",
    "                    color = [(255/255,188/255,121/255),\n",
    "                            (162/255,200/255, 236/255),\n",
    "                            (207/255,207/255,207/255),\n",
    "                            (200/255,82/255,0/255),\n",
    "                            (255/255,194/255,10/255)],\n",
    "                    figsize=(7,6))\n",
    "\n",
    "# Enhancing plot aesthetics:\n",
    "# Removing all the 4 spines with a for loop from our graph figure:\n",
    "for key, spine in tags_top5_graph.spines.items():\n",
    "    spine.set_visible(False)\n",
    "    \n",
    "# Removing the ticks:\n",
    "tags_top5_graph.tick_params(\n",
    "                            bottom='off', top='off', left='off', right='off')\n",
    "# Setting a graph title:\n",
    "tags_top5_graph.set_title('Top5 Tags by Number of Usage', fontsize=14)\n",
    "\n",
    "# Setting an average graph line:\n",
    "tags_top5_graph.axvline(tags_top5.mean(),\n",
    "                       alpha=.8, linestyle='--', color='grey')\n",
    "\n",
    "# Displaying the graph:\n",
    "plt.show()\n"
   ]
  },
  {
   "cell_type": "code",
   "execution_count": 10,
   "metadata": {
    "collapsed": false
   },
   "outputs": [
    {
     "data": {
      "text/plain": [
       "398666"
      ]
     },
     "execution_count": 10,
     "metadata": {},
     "output_type": "execute_result"
    }
   ],
   "source": [
    "posts[posts['Tags'].str.contains('machine-learning')]['ViewCount'].sum()"
   ]
  },
  {
   "cell_type": "markdown",
   "metadata": {},
   "source": [
    "### Now lets check, from the top5 *Tags* calculated above, which one is the most viewed. We will do so using the str.contains() method combined with a mask to filter only the top5 *Tags* in our *posts* Dataframe, and then, concentrating on the *ViewCount* col, adding all the times each tag was viewed:"
   ]
  },
  {
   "cell_type": "code",
   "execution_count": 11,
   "metadata": {
    "collapsed": false
   },
   "outputs": [
    {
     "name": "stdout",
     "output_type": "stream",
     "text": [
      "machine-learning__total-views: 398666\n",
      "python__total-views: 541691\n",
      "deep-learning__total-views: 233628\n",
      "neural-network__total-views: 185367\n",
      "keras__total-views: 269051\n"
     ]
    }
   ],
   "source": [
    "# Creating the tags_top5_views DataFrame(DF):\n",
    "tags_top5_views = pd.DataFrame(\n",
    "                                columns=tags_top5.index, \n",
    "                                index=['Total Views'])\n",
    "\n",
    "\n",
    "for r in range(0,5):\n",
    "    df = tags_top5\n",
    "    n_views = posts[posts['Tags'].str.contains(df.index[r])]['ViewCount'].sum()\n",
    "    print(str(df.index[r]) + '__total-views:',n_views)\n",
    "    \n",
    "# Filling in the tags_top5_views DF with the name of the columns and respective\n",
    "# number of views:\n",
    "    col = tags_top5_views.columns[r]\n",
    "    tags_top5_views[col] = [n_views]\n"
   ]
  },
  {
   "cell_type": "markdown",
   "metadata": {},
   "source": [
    "#### Plotting the above results: "
   ]
  },
  {
   "cell_type": "code",
   "execution_count": 12,
   "metadata": {
    "collapsed": false
   },
   "outputs": [
    {
     "data": {
      "image/png": "[encoded data removed]",
      "text/plain": [
       "<matplotlib.figure.Figure at 0x7f40c5b787b8>"
      ]
     },
     "metadata": {},
     "output_type": "display_data"
    }
   ],
   "source": [
    "# Plotting the tags_top5_views DataFrame in a bar graph:\n",
    "tags_top5_views_graph = tags_top5_views.plot.bar(edgecolor='none',\n",
    "                                            color = [(255/255,188/255,121/255),\n",
    "                            (162/255,200/255, 236/255),\n",
    "                            (207/255,207/255,207/255),\n",
    "                            (200/255,82/255,0/255),\n",
    "                            (255/255,194/255,10/255)], figsize=(7,6))\n",
    "\n",
    "# Enhancing plot aesthetics: \n",
    "# Removing all the 4 spines with a for loop from our graph figure:\n",
    "for key, spine in tags_top5_views_graph.spines.items():\n",
    "    spine.set_visible(False)\n",
    "    \n",
    "# Removing the ticks from the graph:\n",
    "tags_top5_views_graph.tick_params(\n",
    "                                  top ='off',\n",
    "                                  bottom = 'off',\n",
    "                                  right = 'off',\n",
    "                                  left = 'off')\n",
    "   \n",
    "# Setting up a legend box for our bar graph:    \n",
    "tags_top5_views_graph.legend(\n",
    "    loc='upper right', \n",
    "    labels=(tags_top5_views.columns), \n",
    "    ncol=1, fancybox=True, framealpha=.6,\n",
    "    prop={'size': 10})\n",
    "\n",
    "# Rotating the xtick labels:\n",
    "plt.xticks(rotation='horizontal')\n",
    "\n",
    "# Setting a graph title:\n",
    "tags_top5_views_graph.set_title('Top5 Tags by Number of Views', fontsize=14)\n",
    "\n",
    "# Setting an average graph line:\n",
    "tags_top5_views_graph.axhline(n_views.mean(),\n",
    "                             color='grey',\n",
    "                             alpha=.8,\n",
    "                             linestyle=':')\n",
    "\n",
    "plt.show()"
   ]
  },
  {
   "cell_type": "markdown",
   "metadata": {},
   "source": [
    "### Findings:\n",
    "#### - It is clear that among our top5 *Tags* there are two that stand out: Machine-Learning (ML) and Python (Py). Not only are these two *Tags* the most used (ML-2693 times; Py-1814 times) but also the most viewed ones (Py-541691 views; ML-398666 views).\n",
    "#### - We've got two pretty good potential candidates for our assignment, and two compimentlary ones that can even be combined into a major one: Python and Machine-Learning."
   ]
  },
  {
   "cell_type": "code",
   "execution_count": 13,
   "metadata": {
    "collapsed": false
   },
   "outputs": [
    {
     "data": {
      "text/plain": [
       "584"
      ]
     },
     "execution_count": 13,
     "metadata": {},
     "output_type": "execute_result"
    }
   ],
   "source": [
    "# Checking how often the Tags python and tensorflow appear together in the Dataset:\n",
    "posts[posts['Tags'].apply(\n",
    "    lambda tags: True if 'python' and 'tensorflow' in tags else False)].shape[0]"
   ]
  },
  {
   "cell_type": "markdown",
   "metadata": {},
   "source": [
    "### Findings:\n",
    "\n",
    "#### - The use of pairs or an even bigger group of tags grouped together, along our Dataframe, is probably related to their intrinsic relationship, dependency in one another, and common usage. For example, *keras* is a library used 'inside' Pythons ecosystem, such as *scikit-learn*. *Tensorflow* is used with *Python* through a dedicated API. And all these tools, apart from being used along with *Python*, are being used to 'train'/'teach'/'feed' algorithms, or in other words, to do *machine-learning*/*deep-learning*. So now we can understand why so many of these tags are grouped together in our Dataframe."
   ]
  },
  {
   "cell_type": "markdown",
   "metadata": {},
   "source": [
    "### Prior to summarizing our findings let's dig deeper into Deep Learning and check whether or not this trend as come to stay."
   ]
  },
  {
   "cell_type": "code",
   "execution_count": 14,
   "metadata": {
    "collapsed": false
   },
   "outputs": [
    {
     "data": {
      "text/html": [
       "<div>\n",
       "<style scoped>\n",
       "    .dataframe tbody tr th:only-of-type {\n",
       "        vertical-align: middle;\n",
       "    }\n",
       "\n",
       "    .dataframe tbody tr th {\n",
       "        vertical-align: top;\n",
       "    }\n",
       "\n",
       "    .dataframe thead th {\n",
       "        text-align: right;\n",
       "    }\n",
       "</style>\n",
       "<table border=\"1\" class=\"dataframe\">\n",
       "  <thead>\n",
       "    <tr style=\"text-align: right;\">\n",
       "      <th></th>\n",
       "      <th>Id</th>\n",
       "      <th>CreationDate</th>\n",
       "      <th>Tags</th>\n",
       "    </tr>\n",
       "  </thead>\n",
       "  <tbody>\n",
       "    <tr>\n",
       "      <th>0</th>\n",
       "      <td>45416</td>\n",
       "      <td>2019-02-12 00:36:29</td>\n",
       "      <td>&lt;python&gt;&lt;keras&gt;&lt;tensorflow&gt;&lt;cnn&gt;&lt;probability&gt;</td>\n",
       "    </tr>\n",
       "    <tr>\n",
       "      <th>1</th>\n",
       "      <td>45418</td>\n",
       "      <td>2019-02-12 00:50:39</td>\n",
       "      <td>&lt;neural-network&gt;</td>\n",
       "    </tr>\n",
       "    <tr>\n",
       "      <th>2</th>\n",
       "      <td>45422</td>\n",
       "      <td>2019-02-12 04:40:51</td>\n",
       "      <td>&lt;python&gt;&lt;ibm-watson&gt;&lt;chatbot&gt;</td>\n",
       "    </tr>\n",
       "    <tr>\n",
       "      <th>3</th>\n",
       "      <td>45426</td>\n",
       "      <td>2019-02-12 04:51:49</td>\n",
       "      <td>&lt;keras&gt;</td>\n",
       "    </tr>\n",
       "    <tr>\n",
       "      <th>4</th>\n",
       "      <td>45427</td>\n",
       "      <td>2019-02-12 05:08:24</td>\n",
       "      <td>&lt;r&gt;&lt;predictive-modeling&gt;&lt;machine-learning-mode...</td>\n",
       "    </tr>\n",
       "  </tbody>\n",
       "</table>\n",
       "</div>"
      ],
      "text/plain": [
       "      Id        CreationDate  \\\n",
       "0  45416 2019-02-12 00:36:29   \n",
       "1  45418 2019-02-12 00:50:39   \n",
       "2  45422 2019-02-12 04:40:51   \n",
       "3  45426 2019-02-12 04:51:49   \n",
       "4  45427 2019-02-12 05:08:24   \n",
       "\n",
       "                                                Tags  \n",
       "0      <python><keras><tensorflow><cnn><probability>  \n",
       "1                                   <neural-network>  \n",
       "2                      <python><ibm-watson><chatbot>  \n",
       "3                                            <keras>  \n",
       "4  <r><predictive-modeling><machine-learning-mode...  "
      ]
     },
     "execution_count": 14,
     "metadata": {},
     "output_type": "execute_result"
    }
   ],
   "source": [
    "# Reading into the file:\n",
    "all_questions = pd.read_csv('all_questions.csv', parse_dates=['CreationDate'])\n",
    "all_questions.head()"
   ]
  },
  {
   "cell_type": "markdown",
   "metadata": {},
   "source": [
    "## Cleaning the Dataset Part II"
   ]
  },
  {
   "cell_type": "markdown",
   "metadata": {},
   "source": [
    "### Doing the same process as we've done above, and cleaning the Tags column separating each different tag by a comma (,):¶"
   ]
  },
  {
   "cell_type": "code",
   "execution_count": 15,
   "metadata": {
    "collapsed": false
   },
   "outputs": [
    {
     "data": {
      "text/html": [
       "<div>\n",
       "<style scoped>\n",
       "    .dataframe tbody tr th:only-of-type {\n",
       "        vertical-align: middle;\n",
       "    }\n",
       "\n",
       "    .dataframe tbody tr th {\n",
       "        vertical-align: top;\n",
       "    }\n",
       "\n",
       "    .dataframe thead th {\n",
       "        text-align: right;\n",
       "    }\n",
       "</style>\n",
       "<table border=\"1\" class=\"dataframe\">\n",
       "  <thead>\n",
       "    <tr style=\"text-align: right;\">\n",
       "      <th></th>\n",
       "      <th>Id</th>\n",
       "      <th>CreationDate</th>\n",
       "      <th>Tags</th>\n",
       "    </tr>\n",
       "  </thead>\n",
       "  <tbody>\n",
       "    <tr>\n",
       "      <th>15969</th>\n",
       "      <td>63150</td>\n",
       "      <td>2019-11-14 11:14:15</td>\n",
       "      <td>deep-learning,keras,tensorflow,reinforcement-l...</td>\n",
       "    </tr>\n",
       "    <tr>\n",
       "      <th>4602</th>\n",
       "      <td>47449</td>\n",
       "      <td>2019-03-17 04:26:00</td>\n",
       "      <td>reinforcement-learning</td>\n",
       "    </tr>\n",
       "    <tr>\n",
       "      <th>6382</th>\n",
       "      <td>39977</td>\n",
       "      <td>2018-10-20 16:18:46</td>\n",
       "      <td>python,pandas,dataframe</td>\n",
       "    </tr>\n",
       "    <tr>\n",
       "      <th>10566</th>\n",
       "      <td>51102</td>\n",
       "      <td>2019-04-29 10:20:17</td>\n",
       "      <td>machine-learning,classification</td>\n",
       "    </tr>\n",
       "    <tr>\n",
       "      <th>14324</th>\n",
       "      <td>10457</td>\n",
       "      <td>2016-03-01 02:46:31</td>\n",
       "      <td>machine-learning,svm,visualization,performance...</td>\n",
       "    </tr>\n",
       "  </tbody>\n",
       "</table>\n",
       "</div>"
      ],
      "text/plain": [
       "          Id        CreationDate  \\\n",
       "15969  63150 2019-11-14 11:14:15   \n",
       "4602   47449 2019-03-17 04:26:00   \n",
       "6382   39977 2018-10-20 16:18:46   \n",
       "10566  51102 2019-04-29 10:20:17   \n",
       "14324  10457 2016-03-01 02:46:31   \n",
       "\n",
       "                                                    Tags  \n",
       "15969  deep-learning,keras,tensorflow,reinforcement-l...  \n",
       "4602                              reinforcement-learning  \n",
       "6382                             python,pandas,dataframe  \n",
       "10566                    machine-learning,classification  \n",
       "14324  machine-learning,svm,visualization,performance...  "
      ]
     },
     "execution_count": 15,
     "metadata": {},
     "output_type": "execute_result"
    }
   ],
   "source": [
    "# Resorting to the str.replace method in order to clean the Tags col:\n",
    "all_questions['Tags'] = all_questions['Tags'].str.replace('><', ',').str.replace('<', '').str.replace('>', '').copy()\n",
    "all_questions.sample(5)"
   ]
  },
  {
   "cell_type": "markdown",
   "metadata": {},
   "source": [
    "### We will define a cut-off in terms of what we consider a *deep-learning* question or not, and we are only assuming questions related to the *deep-learning* topic as question with one, and one only *deep-learning* Tag in it.  "
   ]
  },
  {
   "cell_type": "code",
   "execution_count": 16,
   "metadata": {
    "collapsed": false
   },
   "outputs": [
    {
     "data": {
      "text/html": [
       "<div>\n",
       "<style scoped>\n",
       "    .dataframe tbody tr th:only-of-type {\n",
       "        vertical-align: middle;\n",
       "    }\n",
       "\n",
       "    .dataframe tbody tr th {\n",
       "        vertical-align: top;\n",
       "    }\n",
       "\n",
       "    .dataframe thead th {\n",
       "        text-align: right;\n",
       "    }\n",
       "</style>\n",
       "<table border=\"1\" class=\"dataframe\">\n",
       "  <thead>\n",
       "    <tr style=\"text-align: right;\">\n",
       "      <th></th>\n",
       "      <th>Id</th>\n",
       "      <th>CreationDate</th>\n",
       "      <th>Tags</th>\n",
       "    </tr>\n",
       "  </thead>\n",
       "  <tbody>\n",
       "    <tr>\n",
       "      <th>5514</th>\n",
       "      <td>5375</td>\n",
       "      <td>2015-03-23 17:36:03</td>\n",
       "      <td>deep-learning</td>\n",
       "    </tr>\n",
       "    <tr>\n",
       "      <th>8039</th>\n",
       "      <td>6643</td>\n",
       "      <td>2015-07-31 08:21:49</td>\n",
       "      <td>deep-learning</td>\n",
       "    </tr>\n",
       "    <tr>\n",
       "      <th>16750</th>\n",
       "      <td>11591</td>\n",
       "      <td>2016-05-04 18:17:38</td>\n",
       "      <td>deep-learning</td>\n",
       "    </tr>\n",
       "    <tr>\n",
       "      <th>2852</th>\n",
       "      <td>15984</td>\n",
       "      <td>2016-12-29 03:35:35</td>\n",
       "      <td>deep-learning</td>\n",
       "    </tr>\n",
       "    <tr>\n",
       "      <th>3513</th>\n",
       "      <td>16276</td>\n",
       "      <td>2017-01-12 11:28:45</td>\n",
       "      <td>deep-learning</td>\n",
       "    </tr>\n",
       "  </tbody>\n",
       "</table>\n",
       "</div>"
      ],
      "text/plain": [
       "          Id        CreationDate           Tags\n",
       "5514    5375 2015-03-23 17:36:03  deep-learning\n",
       "8039    6643 2015-07-31 08:21:49  deep-learning\n",
       "16750  11591 2016-05-04 18:17:38  deep-learning\n",
       "2852   15984 2016-12-29 03:35:35  deep-learning\n",
       "3513   16276 2017-01-12 11:28:45  deep-learning"
      ]
     },
     "execution_count": 16,
     "metadata": {},
     "output_type": "execute_result"
    }
   ],
   "source": [
    "# Defining what we consider to be a deep-learning Tag:\n",
    "deep_learning = all_questions[all_questions['Tags'] == 'deep-learning']\n",
    "\n",
    "# Sorting the Dataframe per Date:\n",
    "deep_learning = deep_learning.sort_values(by='CreationDate')\n",
    "deep_learning.head()"
   ]
  },
  {
   "cell_type": "code",
   "execution_count": 17,
   "metadata": {
    "collapsed": false
   },
   "outputs": [
    {
     "data": {
      "text/html": [
       "<div>\n",
       "<style scoped>\n",
       "    .dataframe tbody tr th:only-of-type {\n",
       "        vertical-align: middle;\n",
       "    }\n",
       "\n",
       "    .dataframe tbody tr th {\n",
       "        vertical-align: top;\n",
       "    }\n",
       "\n",
       "    .dataframe thead th {\n",
       "        text-align: right;\n",
       "    }\n",
       "</style>\n",
       "<table border=\"1\" class=\"dataframe\">\n",
       "  <thead>\n",
       "    <tr style=\"text-align: right;\">\n",
       "      <th></th>\n",
       "      <th>Id</th>\n",
       "      <th>CreationDate</th>\n",
       "      <th>Tags</th>\n",
       "    </tr>\n",
       "  </thead>\n",
       "  <tbody>\n",
       "    <tr>\n",
       "      <th>14682</th>\n",
       "      <td>62769</td>\n",
       "      <td>2019-11-06 12:48:16</td>\n",
       "      <td>deep-learning</td>\n",
       "    </tr>\n",
       "    <tr>\n",
       "      <th>15307</th>\n",
       "      <td>62896</td>\n",
       "      <td>2019-11-08 20:56:55</td>\n",
       "      <td>deep-learning</td>\n",
       "    </tr>\n",
       "    <tr>\n",
       "      <th>18065</th>\n",
       "      <td>64103</td>\n",
       "      <td>2019-12-02 16:10:37</td>\n",
       "      <td>deep-learning</td>\n",
       "    </tr>\n",
       "    <tr>\n",
       "      <th>18785</th>\n",
       "      <td>64645</td>\n",
       "      <td>2019-12-11 12:32:05</td>\n",
       "      <td>deep-learning</td>\n",
       "    </tr>\n",
       "    <tr>\n",
       "      <th>20660</th>\n",
       "      <td>66004</td>\n",
       "      <td>2020-01-07 06:54:06</td>\n",
       "      <td>deep-learning</td>\n",
       "    </tr>\n",
       "  </tbody>\n",
       "</table>\n",
       "</div>"
      ],
      "text/plain": [
       "          Id        CreationDate           Tags\n",
       "14682  62769 2019-11-06 12:48:16  deep-learning\n",
       "15307  62896 2019-11-08 20:56:55  deep-learning\n",
       "18065  64103 2019-12-02 16:10:37  deep-learning\n",
       "18785  64645 2019-12-11 12:32:05  deep-learning\n",
       "20660  66004 2020-01-07 06:54:06  deep-learning"
      ]
     },
     "execution_count": 17,
     "metadata": {},
     "output_type": "execute_result"
    }
   ],
   "source": [
    "deep_learning.tail()"
   ]
  },
  {
   "cell_type": "markdown",
   "metadata": {},
   "source": [
    "### Findings:\n",
    "#### - It's clear that the range of our *deep-learning* sample varies from 2015 and 2020. Although for 2020 the size of the sample is too small, only contaning one month. "
   ]
  },
  {
   "cell_type": "markdown",
   "metadata": {},
   "source": [
    "### Now it is time to group together our *deep-learning* data, based on its year:"
   ]
  },
  {
   "cell_type": "code",
   "execution_count": 18,
   "metadata": {
    "collapsed": false
   },
   "outputs": [
    {
     "data": {
      "text/html": [
       "<div>\n",
       "<style scoped>\n",
       "    .dataframe tbody tr th:only-of-type {\n",
       "        vertical-align: middle;\n",
       "    }\n",
       "\n",
       "    .dataframe tbody tr th {\n",
       "        vertical-align: top;\n",
       "    }\n",
       "\n",
       "    .dataframe thead th {\n",
       "        text-align: right;\n",
       "    }\n",
       "</style>\n",
       "<table border=\"1\" class=\"dataframe\">\n",
       "  <thead>\n",
       "    <tr style=\"text-align: right;\">\n",
       "      <th></th>\n",
       "      <th>Id</th>\n",
       "    </tr>\n",
       "    <tr>\n",
       "      <th>CreationDate</th>\n",
       "      <th></th>\n",
       "    </tr>\n",
       "  </thead>\n",
       "  <tbody>\n",
       "    <tr>\n",
       "      <th>2015</th>\n",
       "      <td>12018</td>\n",
       "    </tr>\n",
       "    <tr>\n",
       "      <th>2016</th>\n",
       "      <td>27575</td>\n",
       "    </tr>\n",
       "    <tr>\n",
       "      <th>2020</th>\n",
       "      <td>66004</td>\n",
       "    </tr>\n",
       "    <tr>\n",
       "      <th>2017</th>\n",
       "      <td>265854</td>\n",
       "    </tr>\n",
       "    <tr>\n",
       "      <th>2018</th>\n",
       "      <td>562010</td>\n",
       "    </tr>\n",
       "    <tr>\n",
       "      <th>2019</th>\n",
       "      <td>1625975</td>\n",
       "    </tr>\n",
       "  </tbody>\n",
       "</table>\n",
       "</div>"
      ],
      "text/plain": [
       "                   Id\n",
       "CreationDate         \n",
       "2015            12018\n",
       "2016            27575\n",
       "2020            66004\n",
       "2017           265854\n",
       "2018           562010\n",
       "2019          1625975"
      ]
     },
     "execution_count": 18,
     "metadata": {},
     "output_type": "execute_result"
    }
   ],
   "source": [
    "deep_learning_grp = deep_learning.groupby(\n",
    "                    deep_learning.CreationDate.dt.year).sum().sort_values(by='Id')\n",
    "deep_learning_grp.head(10)"
   ]
  },
  {
   "cell_type": "markdown",
   "metadata": {},
   "source": [
    "### Applying the same process as above, to the *all_questions* Dataframe:"
   ]
  },
  {
   "cell_type": "code",
   "execution_count": 19,
   "metadata": {
    "collapsed": false
   },
   "outputs": [
    {
     "data": {
      "text/html": [
       "<div>\n",
       "<style scoped>\n",
       "    .dataframe tbody tr th:only-of-type {\n",
       "        vertical-align: middle;\n",
       "    }\n",
       "\n",
       "    .dataframe tbody tr th {\n",
       "        vertical-align: top;\n",
       "    }\n",
       "\n",
       "    .dataframe thead th {\n",
       "        text-align: right;\n",
       "    }\n",
       "</style>\n",
       "<table border=\"1\" class=\"dataframe\">\n",
       "  <thead>\n",
       "    <tr style=\"text-align: right;\">\n",
       "      <th></th>\n",
       "      <th>Id</th>\n",
       "    </tr>\n",
       "    <tr>\n",
       "      <th>CreationDate</th>\n",
       "      <th></th>\n",
       "    </tr>\n",
       "  </thead>\n",
       "  <tbody>\n",
       "    <tr>\n",
       "      <th>2014</th>\n",
       "      <td>774987</td>\n",
       "    </tr>\n",
       "    <tr>\n",
       "      <th>2015</th>\n",
       "      <td>8241798</td>\n",
       "    </tr>\n",
       "    <tr>\n",
       "      <th>2016</th>\n",
       "      <td>27199660</td>\n",
       "    </tr>\n",
       "    <tr>\n",
       "      <th>2017</th>\n",
       "      <td>62341989</td>\n",
       "    </tr>\n",
       "    <tr>\n",
       "      <th>2018</th>\n",
       "      <td>189044640</td>\n",
       "    </tr>\n",
       "    <tr>\n",
       "      <th>2019</th>\n",
       "      <td>482278000</td>\n",
       "    </tr>\n",
       "    <tr>\n",
       "      <th>2020</th>\n",
       "      <td>30388658</td>\n",
       "    </tr>\n",
       "  </tbody>\n",
       "</table>\n",
       "</div>"
      ],
      "text/plain": [
       "                     Id\n",
       "CreationDate           \n",
       "2014             774987\n",
       "2015            8241798\n",
       "2016           27199660\n",
       "2017           62341989\n",
       "2018          189044640\n",
       "2019          482278000\n",
       "2020           30388658"
      ]
     },
     "execution_count": 19,
     "metadata": {},
     "output_type": "execute_result"
    }
   ],
   "source": [
    "all_questions_grp = all_questions.groupby(\n",
    "                    all_questions.CreationDate.dt.year).sum()\n",
    "all_questions_grp.head(10)"
   ]
  },
  {
   "cell_type": "markdown",
   "metadata": {},
   "source": [
    "### Lets now merge the two Dataframes into one, for the sake of our analysis, and proceed with some comparisons and conclusions:"
   ]
  },
  {
   "cell_type": "code",
   "execution_count": 20,
   "metadata": {
    "collapsed": false
   },
   "outputs": [
    {
     "data": {
      "text/html": [
       "<div>\n",
       "<style scoped>\n",
       "    .dataframe tbody tr th:only-of-type {\n",
       "        vertical-align: middle;\n",
       "    }\n",
       "\n",
       "    .dataframe tbody tr th {\n",
       "        vertical-align: top;\n",
       "    }\n",
       "\n",
       "    .dataframe thead th {\n",
       "        text-align: right;\n",
       "    }\n",
       "</style>\n",
       "<table border=\"1\" class=\"dataframe\">\n",
       "  <thead>\n",
       "    <tr style=\"text-align: right;\">\n",
       "      <th></th>\n",
       "      <th>all_questions</th>\n",
       "      <th>deep_learning</th>\n",
       "    </tr>\n",
       "    <tr>\n",
       "      <th>CreationDate</th>\n",
       "      <th></th>\n",
       "      <th></th>\n",
       "    </tr>\n",
       "  </thead>\n",
       "  <tbody>\n",
       "    <tr>\n",
       "      <th>2014</th>\n",
       "      <td>774987</td>\n",
       "      <td>NaN</td>\n",
       "    </tr>\n",
       "    <tr>\n",
       "      <th>2015</th>\n",
       "      <td>8241798</td>\n",
       "      <td>12018.0</td>\n",
       "    </tr>\n",
       "    <tr>\n",
       "      <th>2016</th>\n",
       "      <td>27199660</td>\n",
       "      <td>27575.0</td>\n",
       "    </tr>\n",
       "    <tr>\n",
       "      <th>2017</th>\n",
       "      <td>62341989</td>\n",
       "      <td>265854.0</td>\n",
       "    </tr>\n",
       "    <tr>\n",
       "      <th>2018</th>\n",
       "      <td>189044640</td>\n",
       "      <td>562010.0</td>\n",
       "    </tr>\n",
       "    <tr>\n",
       "      <th>2019</th>\n",
       "      <td>482278000</td>\n",
       "      <td>1625975.0</td>\n",
       "    </tr>\n",
       "    <tr>\n",
       "      <th>2020</th>\n",
       "      <td>30388658</td>\n",
       "      <td>66004.0</td>\n",
       "    </tr>\n",
       "  </tbody>\n",
       "</table>\n",
       "</div>"
      ],
      "text/plain": [
       "              all_questions  deep_learning\n",
       "CreationDate                              \n",
       "2014                 774987            NaN\n",
       "2015                8241798        12018.0\n",
       "2016               27199660        27575.0\n",
       "2017               62341989       265854.0\n",
       "2018              189044640       562010.0\n",
       "2019              482278000      1625975.0\n",
       "2020               30388658        66004.0"
      ]
     },
     "execution_count": 20,
     "metadata": {},
     "output_type": "execute_result"
    }
   ],
   "source": [
    "# Merging the 2 Datasets:\n",
    "deep_all = pd.merge(all_questions_grp, deep_learning_grp, how='left', \n",
    "                    left_index=True, right_index=True)\n",
    "\n",
    "# Renaming the cols:\n",
    "deep_all = deep_all.rename(\n",
    "                        columns={'Id_x':'all_questions','Id_y':'deep_learning' })\n",
    "deep_all.head(10)"
   ]
  },
  {
   "cell_type": "markdown",
   "metadata": {},
   "source": [
    "### In order to adjust both samples and to make the comparison cleaner we will drop rows 2014, since there is no data for the *deep-learning* Tag for this period, and also the row 2020, due to the lack of sufficient data for these year in particular. This way our comparisons are more robust and consistent:"
   ]
  },
  {
   "cell_type": "code",
   "execution_count": 21,
   "metadata": {
    "collapsed": false
   },
   "outputs": [
    {
     "data": {
      "text/html": [
       "<div>\n",
       "<style scoped>\n",
       "    .dataframe tbody tr th:only-of-type {\n",
       "        vertical-align: middle;\n",
       "    }\n",
       "\n",
       "    .dataframe tbody tr th {\n",
       "        vertical-align: top;\n",
       "    }\n",
       "\n",
       "    .dataframe thead th {\n",
       "        text-align: right;\n",
       "    }\n",
       "</style>\n",
       "<table border=\"1\" class=\"dataframe\">\n",
       "  <thead>\n",
       "    <tr style=\"text-align: right;\">\n",
       "      <th></th>\n",
       "      <th>all_questions</th>\n",
       "      <th>deep_learning</th>\n",
       "    </tr>\n",
       "    <tr>\n",
       "      <th>CreationDate</th>\n",
       "      <th></th>\n",
       "      <th></th>\n",
       "    </tr>\n",
       "  </thead>\n",
       "  <tbody>\n",
       "    <tr>\n",
       "      <th>2015</th>\n",
       "      <td>8241798</td>\n",
       "      <td>12018.0</td>\n",
       "    </tr>\n",
       "    <tr>\n",
       "      <th>2016</th>\n",
       "      <td>27199660</td>\n",
       "      <td>27575.0</td>\n",
       "    </tr>\n",
       "    <tr>\n",
       "      <th>2017</th>\n",
       "      <td>62341989</td>\n",
       "      <td>265854.0</td>\n",
       "    </tr>\n",
       "    <tr>\n",
       "      <th>2018</th>\n",
       "      <td>189044640</td>\n",
       "      <td>562010.0</td>\n",
       "    </tr>\n",
       "    <tr>\n",
       "      <th>2019</th>\n",
       "      <td>482278000</td>\n",
       "      <td>1625975.0</td>\n",
       "    </tr>\n",
       "  </tbody>\n",
       "</table>\n",
       "</div>"
      ],
      "text/plain": [
       "              all_questions  deep_learning\n",
       "CreationDate                              \n",
       "2015                8241798        12018.0\n",
       "2016               27199660        27575.0\n",
       "2017               62341989       265854.0\n",
       "2018              189044640       562010.0\n",
       "2019              482278000      1625975.0"
      ]
     },
     "execution_count": 21,
     "metadata": {},
     "output_type": "execute_result"
    }
   ],
   "source": [
    "# Dropping the 2014 and 2020 cols:\n",
    "deep_all = deep_all.drop([2014, 2020], axis=0)\n",
    "deep_all.head(10)"
   ]
  },
  {
   "cell_type": "markdown",
   "metadata": {},
   "source": [
    "## Exploring the Numbers Part II"
   ]
  },
  {
   "cell_type": "markdown",
   "metadata": {},
   "source": [
    "### Let us now make another test, and compare the number of *deep_learning* *Tags* against all the questions made in the Stack Exchange website, in order to demonstrate and validate its growth in terms of all the questions ever made. Making a kind of common-size analysis:"
   ]
  },
  {
   "cell_type": "code",
   "execution_count": 22,
   "metadata": {
    "collapsed": false
   },
   "outputs": [
    {
     "data": {
      "text/html": [
       "<div>\n",
       "<style scoped>\n",
       "    .dataframe tbody tr th:only-of-type {\n",
       "        vertical-align: middle;\n",
       "    }\n",
       "\n",
       "    .dataframe tbody tr th {\n",
       "        vertical-align: top;\n",
       "    }\n",
       "\n",
       "    .dataframe thead th {\n",
       "        text-align: right;\n",
       "    }\n",
       "</style>\n",
       "<table border=\"1\" class=\"dataframe\">\n",
       "  <thead>\n",
       "    <tr style=\"text-align: right;\">\n",
       "      <th></th>\n",
       "      <th>date</th>\n",
       "      <th>all_questions</th>\n",
       "      <th>deep_learning</th>\n",
       "      <th>%_deep_learning</th>\n",
       "    </tr>\n",
       "  </thead>\n",
       "  <tbody>\n",
       "    <tr>\n",
       "      <th>0</th>\n",
       "      <td>2015</td>\n",
       "      <td>8241798</td>\n",
       "      <td>12018.0</td>\n",
       "      <td>0.145818</td>\n",
       "    </tr>\n",
       "    <tr>\n",
       "      <th>1</th>\n",
       "      <td>2016</td>\n",
       "      <td>27199660</td>\n",
       "      <td>27575.0</td>\n",
       "      <td>0.101380</td>\n",
       "    </tr>\n",
       "    <tr>\n",
       "      <th>2</th>\n",
       "      <td>2017</td>\n",
       "      <td>62341989</td>\n",
       "      <td>265854.0</td>\n",
       "      <td>0.426445</td>\n",
       "    </tr>\n",
       "    <tr>\n",
       "      <th>3</th>\n",
       "      <td>2018</td>\n",
       "      <td>189044640</td>\n",
       "      <td>562010.0</td>\n",
       "      <td>0.297290</td>\n",
       "    </tr>\n",
       "    <tr>\n",
       "      <th>4</th>\n",
       "      <td>2019</td>\n",
       "      <td>482278000</td>\n",
       "      <td>1625975.0</td>\n",
       "      <td>0.337145</td>\n",
       "    </tr>\n",
       "  </tbody>\n",
       "</table>\n",
       "</div>"
      ],
      "text/plain": [
       "   date  all_questions  deep_learning  %_deep_learning\n",
       "0  2015        8241798        12018.0         0.145818\n",
       "1  2016       27199660        27575.0         0.101380\n",
       "2  2017       62341989       265854.0         0.426445\n",
       "3  2018      189044640       562010.0         0.297290\n",
       "4  2019      482278000      1625975.0         0.337145"
      ]
     },
     "execution_count": 22,
     "metadata": {},
     "output_type": "execute_result"
    }
   ],
   "source": [
    "# Calculating the percentage of deep learning Tags among all the questions:\n",
    "deep_all['%_deep_learning'] = (deep_all[\n",
    "    'deep_learning']/deep_all['all_questions'])*100\n",
    "deep_all['date'] = deep_all.index\n",
    "\n",
    "# Dropping index (other way could be df.index.name=None): \n",
    "deep_all.reset_index(drop=True, inplace=True)\n",
    "\n",
    "# Reorganizing the columns order:\n",
    "deep_all = deep_all[['date', 'all_questions', 'deep_learning', '%_deep_learning']]\n",
    "deep_all.head(10)"
   ]
  },
  {
   "cell_type": "markdown",
   "metadata": {},
   "source": [
    "### Findings:\n",
    "#### - From a first glimpse we can observe an upward trend along the years, in the use of the *deep_learning* *Tags*. In 2015 their number were around 12000, as in 2019 these numbers climbed to figures around 1600000. This is an impressive growth. \n",
    "\n",
    "#### - In terms of their percentage, among all questions made in the Stack Exchange website, the growth trend is also there, albeit not so strong and not so linear. Now let's visualize it."
   ]
  },
  {
   "cell_type": "markdown",
   "metadata": {},
   "source": [
    "#### Plotting the results:"
   ]
  },
  {
   "cell_type": "code",
   "execution_count": 23,
   "metadata": {
    "collapsed": false
   },
   "outputs": [
    {
     "data": {
      "image/png": "[encoded data removed]",
      "text/plain": [
       "<matplotlib.figure.Figure at 0x7f40c5d37630>"
      ]
     },
     "metadata": {},
     "output_type": "display_data"
    }
   ],
   "source": [
    "fig = plt.figure(figsize=(9,9))\n",
    "ax_spines = ['right', 'left', 'bottom', 'top']\n",
    "\n",
    "ax1 = fig.add_subplot(3,1,1)\n",
    "ax2 = fig.add_subplot(3,1,2)\n",
    "ax3 = fig.add_subplot(3,1,3)\n",
    "x = deep_all['date']\n",
    "xi = list(range(len(x)))\n",
    "\n",
    "plt.xlabel=('x')\n",
    "plt.xticks(xi, x)\n",
    "\n",
    "# Setting a trend line:\n",
    "trend_all = np.polyfit(x, deep_all['all_questions'], 1)\n",
    "p_all = np.poly1d(trend_all)\n",
    "\n",
    "ax1.plot(deep_all['all_questions'], color='green')\n",
    "ax1.plot(p_all(x), 'r-.')\n",
    "\n",
    "# Setting the yticks for ax1:\n",
    "ax1.set_yticks([deep_all['all_questions'].min(), deep_all['all_questions'].max()/2,\n",
    "     deep_all['all_questions'].max()])\n",
    "\n",
    "# Setting a trend line:\n",
    "trend_deep = np.polyfit(x, deep_all['deep_learning'], 1)\n",
    "p_deep = np.poly1d(trend_deep)\n",
    "\n",
    "ax2.plot(deep_all['deep_learning'], color = 'orange')\n",
    "ax2.plot(p_deep(x), 'r-.')\n",
    "\n",
    "# Setting the yticks for ax2:\n",
    "ax2.set_yticks([deep_all['deep_learning'].min(), deep_all['deep_learning'].max()/2,\n",
    "     deep_all['deep_learning'].max()])\n",
    "\n",
    "# Setting a trend line:\n",
    "trend_deep_perc = np.polyfit(x, deep_all['%_deep_learning'], 1)\n",
    "p_deep_perc = np.poly1d(trend_deep_perc)\n",
    "\n",
    "ax3.plot(deep_all['%_deep_learning'], color='grey')\n",
    "ax3.plot(p_deep_perc(x), 'r-.')\n",
    "\n",
    "# Setting the yticks for ax3:\n",
    "ax3.set_yticks([0, 0.25, 0.5])\n",
    "\n",
    "# Giving each graph a title:\n",
    "ax1.set_title('All Questions', fontsize=14)\n",
    "ax2.set_title('Deep Learning Questions', fontsize=14)\n",
    "ax3.set_title('% of Deep Learning Questions', fontsize=14)\n",
    "\n",
    "# Enhancing plot aesthetics: \n",
    "# Removing the ticks from the graph:\n",
    "for i in range(3):\n",
    "    ax = fig.add_subplot(3,1,i+1)\n",
    "    ax.tick_params(\n",
    "                                  top ='off',\n",
    "                                  bottom = 'off',\n",
    "                                  right = 'off',\n",
    "                                  left = 'off')\n",
    "    \n",
    "# Removing all the 4 spines with a for loop from our graph figure:\n",
    "    for i in range(0,4):\n",
    "        ax.spines[ax_spines[i]].set_visible(False)\n",
    "\n",
    "# Removing unnecessary x labels:\n",
    "for i in range(1,3):\n",
    "    ax = fig.add_subplot(3,1,i)\n",
    "    ax.tick_params(labelbottom=False)\n",
    "\n",
    "plt.show()"
   ]
  },
  {
   "cell_type": "markdown",
   "metadata": {
    "collapsed": false
   },
   "source": [
    "### Findings:\n",
    "\n",
    "#### - It is clear that we can actually see, along the years, a clear upward trend in the interest shown for the Deep Learning subject. Although being true, this statement is not so strong when we analyze the number of Deep Learning questions, compared to the Total Questions (*All Questions*).  We still conclude that there is a growth, from year 2015 to 2019, in Deep Learning interest, but the linearity of that growth lacks strongness.\n",
    "#### - To sum it up, it's fair to say that Deep Learning is a subject that deserves our attention due to the traction it gained along the 5 years in our analysis. "
   ]
  },
  {
   "cell_type": "markdown",
   "metadata": {
    "collapsed": true
   },
   "source": [
    "### What if we could use another popularity assessment metric apart from the ones we've been using? What if we used, for example, *FavoriteCount*, or *Scores*, what would be our results? Lets find out."
   ]
  },
  {
   "cell_type": "markdown",
   "metadata": {},
   "source": [
    "### As a complementary analysis we are now going to assess which of the different Data Science *themes* are the most popular ones, but resorting to a slightly different approach. First we are going to choose the *Scores* metric but with a bit of a twist.\n",
    "### We will focus on the top 10 most scored Tags. This will be the cutoff of our analysis.\n",
    "### After having our top 10 we will then calculate the *ratio* between the total score of each of those Tags and the number of times that those very same Tags were used in the Stack Exchange.\n",
    "### We will then repeat the process for the metric *FavoriteCount* and compare both of them. "
   ]
  },
  {
   "cell_type": "code",
   "execution_count": 24,
   "metadata": {
    "collapsed": false
   },
   "outputs": [
    {
     "name": "stdout",
     "output_type": "stream",
     "text": [
      "                              Tags  Score\n",
      "0                 machine-learning     83\n",
      "1   machine-learning,deep-learning     48\n",
      "2                   data-wrangling     45\n",
      "3                    python,pandas     44\n",
      "4           reinforcement-learning     42\n",
      "5  machine-learning,classification     36\n",
      "6                              nlp     33\n",
      "7                   neural-network     29\n",
      "8                            keras     27\n",
      "9         machine-learning,xgboost     25\n"
     ]
    }
   ],
   "source": [
    "# Creating our top_10_scores DF.Based on which of the Tags used got the more score.\n",
    "top_scores = posts[[\n",
    "    'Score', 'Tags']].groupby(\n",
    "                            'Tags').agg({\n",
    "                                        'Score':'sum'\n",
    "                                        }).sort_values(\n",
    "                                        by='Score',ascending=False).reset_index()\n",
    "top_10_scores = top_scores.head(10)\n",
    "print(top_10_scores)"
   ]
  },
  {
   "cell_type": "code",
   "execution_count": 25,
   "metadata": {
    "collapsed": false
   },
   "outputs": [
    {
     "name": "stdout",
     "output_type": "stream",
     "text": [
      "['classification' 'data-wrangling' 'deep-learning' 'keras'\n",
      " 'machine-learning' 'neural-network' 'nlp' 'pandas' 'python'\n",
      " 'reinforcement-learning' 'xgboost']\n"
     ]
    }
   ],
   "source": [
    "# Chaining together the unique Tags of our top_10_scores DF, and creating a list \n",
    "# of their own:\n",
    "top_10_tags_s = top_10_scores['Tags'].str.split(',')\n",
    "unique_top10_tags = np.unique(list(chain(*top_10_tags_s)))\n",
    "print(unique_top10_tags)"
   ]
  },
  {
   "cell_type": "code",
   "execution_count": 26,
   "metadata": {
    "collapsed": false
   },
   "outputs": [
    {
     "data": {
      "text/html": [
       "<div>\n",
       "<style scoped>\n",
       "    .dataframe tbody tr th:only-of-type {\n",
       "        vertical-align: middle;\n",
       "    }\n",
       "\n",
       "    .dataframe tbody tr th {\n",
       "        vertical-align: top;\n",
       "    }\n",
       "\n",
       "    .dataframe thead th {\n",
       "        text-align: right;\n",
       "    }\n",
       "</style>\n",
       "<table border=\"1\" class=\"dataframe\">\n",
       "  <thead>\n",
       "    <tr style=\"text-align: right;\">\n",
       "      <th></th>\n",
       "      <th>Tags</th>\n",
       "      <th>Score-Tag_ratio</th>\n",
       "    </tr>\n",
       "  </thead>\n",
       "  <tbody>\n",
       "    <tr>\n",
       "      <th>0</th>\n",
       "      <td>data-wrangling</td>\n",
       "      <td>4.929</td>\n",
       "    </tr>\n",
       "    <tr>\n",
       "      <th>1</th>\n",
       "      <td>reinforcement-learning</td>\n",
       "      <td>1.357</td>\n",
       "    </tr>\n",
       "    <tr>\n",
       "      <th>2</th>\n",
       "      <td>pandas</td>\n",
       "      <td>1.348</td>\n",
       "    </tr>\n",
       "    <tr>\n",
       "      <th>3</th>\n",
       "      <td>xgboost</td>\n",
       "      <td>1.331</td>\n",
       "    </tr>\n",
       "    <tr>\n",
       "      <th>4</th>\n",
       "      <td>neural-network</td>\n",
       "      <td>1.260</td>\n",
       "    </tr>\n",
       "    <tr>\n",
       "      <th>5</th>\n",
       "      <td>machine-learning</td>\n",
       "      <td>1.239</td>\n",
       "    </tr>\n",
       "    <tr>\n",
       "      <th>6</th>\n",
       "      <td>nlp</td>\n",
       "      <td>1.233</td>\n",
       "    </tr>\n",
       "    <tr>\n",
       "      <th>7</th>\n",
       "      <td>deep-learning</td>\n",
       "      <td>1.174</td>\n",
       "    </tr>\n",
       "    <tr>\n",
       "      <th>8</th>\n",
       "      <td>classification</td>\n",
       "      <td>1.165</td>\n",
       "    </tr>\n",
       "    <tr>\n",
       "      <th>9</th>\n",
       "      <td>keras</td>\n",
       "      <td>1.146</td>\n",
       "    </tr>\n",
       "  </tbody>\n",
       "</table>\n",
       "</div>"
      ],
      "text/plain": [
       "                     Tags  Score-Tag_ratio\n",
       "0          data-wrangling            4.929\n",
       "1  reinforcement-learning            1.357\n",
       "2                  pandas            1.348\n",
       "3                 xgboost            1.331\n",
       "4          neural-network            1.260\n",
       "5        machine-learning            1.239\n",
       "6                     nlp            1.233\n",
       "7           deep-learning            1.174\n",
       "8          classification            1.165\n",
       "9                   keras            1.146"
      ]
     },
     "execution_count": 26,
     "metadata": {},
     "output_type": "execute_result"
    }
   ],
   "source": [
    "# Creating our top10_score_tags_ratio DF:\n",
    "top10_score_tag_ratio = []\n",
    "\n",
    "for tags in unique_top10_tags:\n",
    "    top10_score_tag_ratio.append(\n",
    "    {\n",
    "    'Tags': tags,\n",
    "    'Score-Tag_ratio': round((top_scores[top_scores['Tags'].str.contains(tags)]['Score'].sum())\\\n",
    "    /(top_scores[top_scores['Tags'].str.contains(tags)].shape[0]),3) \n",
    "    }\n",
    "        )\n",
    "\n",
    "top10_score_tag_ratio = pd.DataFrame(top10_score_tag_ratio)\n",
    "\n",
    "# Changing the col's order, sorting the values by their ratio and droping the index:\n",
    "top10_score_tag_ratio = top10_score_tag_ratio.loc[\n",
    "                        :,['Tags', 'Score-Tag_ratio']].sort_values(\n",
    "                        by='Score-Tag_ratio', ascending=False).\\\n",
    "                        reset_index(drop=True)\n",
    "    \n",
    "top10_score_tag_ratio.head(10)"
   ]
  },
  {
   "cell_type": "markdown",
   "metadata": {
    "collapsed": false
   },
   "source": [
    "### Repeating the same process, but this time for the metric *FavoriteCount* "
   ]
  },
  {
   "cell_type": "code",
   "execution_count": 27,
   "metadata": {
    "collapsed": false
   },
   "outputs": [
    {
     "name": "stdout",
     "output_type": "stream",
     "text": [
      "                              Tags  Score\n",
      "0                 machine-learning     83\n",
      "1   machine-learning,deep-learning     48\n",
      "2                   data-wrangling     45\n",
      "3                    python,pandas     44\n",
      "4           reinforcement-learning     42\n",
      "5  machine-learning,classification     36\n",
      "6                              nlp     33\n",
      "7                   neural-network     29\n",
      "8                            keras     27\n",
      "9         machine-learning,xgboost     25\n"
     ]
    }
   ],
   "source": [
    "# Creating our top10_favoritecount DF.Based on which of the Tags used got the \n",
    "# more counts as favorite:\n",
    "top_favoritecount = posts[[\n",
    "    'FavoriteCount', 'Tags']].groupby(\n",
    "                            'Tags').agg({\n",
    "                                        'FavoriteCount':'sum'\n",
    "                                        }).sort_values(\n",
    "                                        by='FavoriteCount',ascending=False).reset_index()\n",
    "\n",
    "top10_favoritecount = top_favoritecount.head(10)\n",
    "print(top_10_scores)"
   ]
  },
  {
   "cell_type": "code",
   "execution_count": 28,
   "metadata": {
    "collapsed": false
   },
   "outputs": [
    {
     "name": "stdout",
     "output_type": "stream",
     "text": [
      "['activation-function' 'bert' 'classification' 'data-product'\n",
      " 'data-wrangling' 'deep-learning' 'gradient-descent' 'keras' 'lstm'\n",
      " 'machine-learning' 'mathematics' 'neural-network' 'optimization' 'python']\n"
     ]
    }
   ],
   "source": [
    "# Chaining together the unique Tags of our top10_favoritecount DF, and creating a \n",
    "# list of their own:\n",
    "top10_favoritecount_tags = top10_favoritecount['Tags'].str.split(',')\n",
    "unique_top10_favoritecount_tags = np.unique(list(chain(*top10_favoritecount_tags)))\n",
    "\n",
    "print(unique_top10_favoritecount_tags)"
   ]
  },
  {
   "cell_type": "code",
   "execution_count": 29,
   "metadata": {
    "collapsed": false
   },
   "outputs": [
    {
     "data": {
      "text/html": [
       "<div>\n",
       "<style scoped>\n",
       "    .dataframe tbody tr th:only-of-type {\n",
       "        vertical-align: middle;\n",
       "    }\n",
       "\n",
       "    .dataframe tbody tr th {\n",
       "        vertical-align: top;\n",
       "    }\n",
       "\n",
       "    .dataframe thead th {\n",
       "        text-align: right;\n",
       "    }\n",
       "</style>\n",
       "<table border=\"1\" class=\"dataframe\">\n",
       "  <thead>\n",
       "    <tr style=\"text-align: right;\">\n",
       "      <th></th>\n",
       "      <th>Tags</th>\n",
       "      <th>FavoriteCount-Tag_ratio</th>\n",
       "    </tr>\n",
       "  </thead>\n",
       "  <tbody>\n",
       "    <tr>\n",
       "      <th>0</th>\n",
       "      <td>data-product</td>\n",
       "      <td>2.333</td>\n",
       "    </tr>\n",
       "    <tr>\n",
       "      <th>1</th>\n",
       "      <td>data-wrangling</td>\n",
       "      <td>1.571</td>\n",
       "    </tr>\n",
       "    <tr>\n",
       "      <th>2</th>\n",
       "      <td>mathematics</td>\n",
       "      <td>0.875</td>\n",
       "    </tr>\n",
       "    <tr>\n",
       "      <th>3</th>\n",
       "      <td>bert</td>\n",
       "      <td>0.667</td>\n",
       "    </tr>\n",
       "    <tr>\n",
       "      <th>4</th>\n",
       "      <td>gradient-descent</td>\n",
       "      <td>0.452</td>\n",
       "    </tr>\n",
       "    <tr>\n",
       "      <th>5</th>\n",
       "      <td>activation-function</td>\n",
       "      <td>0.400</td>\n",
       "    </tr>\n",
       "    <tr>\n",
       "      <th>6</th>\n",
       "      <td>neural-network</td>\n",
       "      <td>0.280</td>\n",
       "    </tr>\n",
       "    <tr>\n",
       "      <th>7</th>\n",
       "      <td>machine-learning</td>\n",
       "      <td>0.279</td>\n",
       "    </tr>\n",
       "    <tr>\n",
       "      <th>8</th>\n",
       "      <td>deep-learning</td>\n",
       "      <td>0.277</td>\n",
       "    </tr>\n",
       "    <tr>\n",
       "      <th>9</th>\n",
       "      <td>classification</td>\n",
       "      <td>0.276</td>\n",
       "    </tr>\n",
       "  </tbody>\n",
       "</table>\n",
       "</div>"
      ],
      "text/plain": [
       "                  Tags  FavoriteCount-Tag_ratio\n",
       "0         data-product                    2.333\n",
       "1       data-wrangling                    1.571\n",
       "2          mathematics                    0.875\n",
       "3                 bert                    0.667\n",
       "4     gradient-descent                    0.452\n",
       "5  activation-function                    0.400\n",
       "6       neural-network                    0.280\n",
       "7     machine-learning                    0.279\n",
       "8        deep-learning                    0.277\n",
       "9       classification                    0.276"
      ]
     },
     "execution_count": 29,
     "metadata": {},
     "output_type": "execute_result"
    }
   ],
   "source": [
    "# Creating our top10_favoritecount_ratio DF:\n",
    "top10_favoritecount_tag_ratio = []\n",
    "\n",
    "for tags in unique_top10_favoritecount_tags:\n",
    "    top10_favoritecount_tag_ratio.append(\n",
    "    {\n",
    "    'Tags': tags,\n",
    "    'FavoriteCount-Tag_ratio': \n",
    "    round((top_favoritecount[top_favoritecount['Tags'].str.contains(tags)]['FavoriteCount'].sum())\\\n",
    "    /(top_favoritecount[top_favoritecount['Tags'].str.contains(tags)].shape[0]),3) \n",
    "    }\n",
    "        )\n",
    "\n",
    "top10_favoritecount_tag_ratio = pd.DataFrame(top10_favoritecount_tag_ratio)\n",
    "\n",
    "# Changing the col's order, sorting the values by their ratio, and droping the index:\n",
    "top10_favoritecount_tag_ratio = top10_favoritecount_tag_ratio.loc[\n",
    "                        :,['Tags', 'FavoriteCount-Tag_ratio']].sort_values(\n",
    "                        by='FavoriteCount-Tag_ratio', ascending=False).\\\n",
    "                        reset_index(drop=True)\n",
    "    \n",
    "top10_favoritecount_tag_ratio.head(10)"
   ]
  },
  {
   "cell_type": "markdown",
   "metadata": {
    "collapsed": false
   },
   "source": [
    "### Now that we have both our *top10_score_tag_ratio* and our *top10_favoritecount_tag_ratio* Dataframes, we will plot both and compare the different results obtained between each other. And because we also want to compare these results with the previous ones - *Top5 Tags by Number of Usage* and *Top5 Tags by Number of Views* - we need, for the sake of comparing apples to apples, to plot only our top5 results for both the *top10_score_tag_ratio* and *top10_favoritecount_tag_ratio* Dataframes."
   ]
  },
  {
   "cell_type": "code",
   "execution_count": 30,
   "metadata": {
    "collapsed": true
   },
   "outputs": [],
   "source": [
    "plt.rcParams['patch.edgecolor'] = 'white'"
   ]
  },
  {
   "cell_type": "code",
   "execution_count": 31,
   "metadata": {
    "collapsed": false
   },
   "outputs": [
    {
     "data": {
      "image/png": "[encoded data removed]",
      "text/plain": [
       "<matplotlib.figure.Figure at 0x7f40c3838a58>"
      ]
     },
     "metadata": {},
     "output_type": "display_data"
    },
    {
     "data": {
      "text/html": [
       "<div>\n",
       "<style scoped>\n",
       "    .dataframe tbody tr th:only-of-type {\n",
       "        vertical-align: middle;\n",
       "    }\n",
       "\n",
       "    .dataframe tbody tr th {\n",
       "        vertical-align: top;\n",
       "    }\n",
       "\n",
       "    .dataframe thead th {\n",
       "        text-align: right;\n",
       "    }\n",
       "</style>\n",
       "<table border=\"1\" class=\"dataframe\">\n",
       "  <thead>\n",
       "    <tr style=\"text-align: right;\">\n",
       "      <th></th>\n",
       "      <th>Tags</th>\n",
       "      <th>FavoriteCount-Tag_ratio</th>\n",
       "      <th>Tags</th>\n",
       "      <th>Score-Tag_ratio</th>\n",
       "    </tr>\n",
       "  </thead>\n",
       "  <tbody>\n",
       "    <tr>\n",
       "      <th>0</th>\n",
       "      <td>data-product</td>\n",
       "      <td>2.333</td>\n",
       "      <td>data-wrangling</td>\n",
       "      <td>4.929</td>\n",
       "    </tr>\n",
       "    <tr>\n",
       "      <th>1</th>\n",
       "      <td>data-wrangling</td>\n",
       "      <td>1.571</td>\n",
       "      <td>reinforcement-learning</td>\n",
       "      <td>1.357</td>\n",
       "    </tr>\n",
       "    <tr>\n",
       "      <th>2</th>\n",
       "      <td>mathematics</td>\n",
       "      <td>0.875</td>\n",
       "      <td>pandas</td>\n",
       "      <td>1.348</td>\n",
       "    </tr>\n",
       "    <tr>\n",
       "      <th>3</th>\n",
       "      <td>bert</td>\n",
       "      <td>0.667</td>\n",
       "      <td>xgboost</td>\n",
       "      <td>1.331</td>\n",
       "    </tr>\n",
       "    <tr>\n",
       "      <th>4</th>\n",
       "      <td>gradient-descent</td>\n",
       "      <td>0.452</td>\n",
       "      <td>neural-network</td>\n",
       "      <td>1.260</td>\n",
       "    </tr>\n",
       "  </tbody>\n",
       "</table>\n",
       "</div>"
      ],
      "text/plain": [
       "               Tags  FavoriteCount-Tag_ratio                    Tags  \\\n",
       "0      data-product                    2.333          data-wrangling   \n",
       "1    data-wrangling                    1.571  reinforcement-learning   \n",
       "2       mathematics                    0.875                  pandas   \n",
       "3              bert                    0.667                 xgboost   \n",
       "4  gradient-descent                    0.452          neural-network   \n",
       "\n",
       "   Score-Tag_ratio  \n",
       "0            4.929  \n",
       "1            1.357  \n",
       "2            1.348  \n",
       "3            1.331  \n",
       "4            1.260  "
      ]
     },
     "execution_count": 31,
     "metadata": {},
     "output_type": "execute_result"
    }
   ],
   "source": [
    "# Creating a figure with two subplots, and defining the figure size:\n",
    "fig, (ax1, ax2) = plt.subplots(1, 2, figsize=(16,8))\n",
    "\n",
    "# Attributing our data to 2 different variables. Each for a different subplot:\n",
    "data1 = top10_favoritecount_tag_ratio[:5]['FavoriteCount-Tag_ratio']\n",
    "data2 = top10_score_tag_ratio[:5]['Score-Tag_ratio']\n",
    "\n",
    "# Plotting each different Pie chart in a separate subplot (ax1 and ax2).\n",
    "# Plotting ax1:\n",
    "ax1.pie(data1, \n",
    "        colors = [(100/255,143/255,255/255),\n",
    "                 (120/255,95/255,240/255),\n",
    "                 (220/255,38/255,127/255),\n",
    "                 (254/255,97/255,0/255),\n",
    "                 (255/255,176/255,0/255)],\n",
    "        explode = [0.01, 0.01, 0.01, 0.01, 0.01],\n",
    "        autopct = '%.1f%%')\n",
    "\n",
    "# Setting the title for the ax1 Pie chart:\n",
    "ax1.set_title('Top5 FavoriteCount-Tag_Ratio')\n",
    "\n",
    "# Setting and configurating the legend for the ax1 Pie chart:\n",
    "ax1.legend(top10_favoritecount_tag_ratio[:5]['Tags'], \n",
    "           loc='upper left', framealpha=0.2)\n",
    "\n",
    "# Plotting ax2:\n",
    "ax2.pie(data2,\n",
    "        colors = [(127/255,255/255,0/255),\n",
    "                 (0/255,255/255,255/255),\n",
    "                 (245/255,222/255,179/255),\n",
    "                 (122/255,128/255,144/255),\n",
    "                 (138/255,43/255,226/255)],\n",
    "        explode = [0.01, 0.01, 0.01, 0.01, 0.01],\n",
    "        autopct = '%.1f%%')\n",
    "\n",
    "# Setting the title for the ax1 Pie chart:\n",
    "ax2.set_title('Top5 Score-Tag_Ratio')\n",
    "\n",
    "# Setting and configurating the legend for the ax1 Pie chart:\n",
    "ax2.legend(top10_score_tag_ratio[:5]['Tags'], \n",
    "           loc='upper right', framealpha=0.2)\n",
    "\n",
    "# Removing the edgecolor black from all the pie charts:\n",
    "plt.rcParams['patch.edgecolor'] = 'white'\n",
    "\n",
    "plt.show()\n",
    "\n",
    "# Concatenating both our top5_favoritecount_tag_ratio, and the top5_score_tag_ratio\n",
    "# DF's, for a better understandability of our conclusions:\n",
    "pd.concat([top10_favoritecount_tag_ratio[:5],top10_score_tag_ratio[:5]], axis=1) "
   ]
  },
  {
   "cell_type": "markdown",
   "metadata": {
    "collapsed": false
   },
   "source": [
    "### Findings:\n",
    "\n",
    "#### - When we choose to employ different popularity proxies with almost no surprise, we produce distinct outcomes for our top Tags. \n",
    "#### - If the choice goes to our *FavoriteCount-Tag_ratio* metric, our top 5 is populated with the following tags: *data-product*; *data-wrangling*; *mathematics*; *bert*; *gradient-descent*. Posts with the tag *data-product* were favorited approximately 2.3 times for each tag usage.  This number droped to about 1.6 for the *data-wrangling* posts. Dropping further to 0.88 we got the tag *mathematics*. Receiving less than 1 favorite count per tag usage.\n",
    "#### - The *data-product* and the *data-wrangling* Tag ratios, together account for more than half of our top5 *FavoriteCount-Tag_ratio* total. With nearly 67% (39,6% and 26,6%, respectively) of the total observations. This outlines the importance of these two tags in our top5. In the other side of the fence, and representing ca. 19% of the total outcome we have the tags *bert* and *gradient-descent* (11.3% and 7.7%, respectively).\n",
    "#### - In the other spectrum, and resorting to the *Score-Tag_ratio*, we get different results. Our top 5 tags is as follows: *data-wrangling*; *reinforcement-learning*; *pandas*; *xgboost*; *neural-network*. With a ratio of ca. 4.9, *data-wrangling* comes at first in our top5. Collecting a score of almost 5 per tag usage. Significantly lower comes the tag *reinforcement-learning* with a ratio of 1.4. Followed close by *pandas* tag, with a score of 1.3 for each tag usage.\n",
    "#### - The big representative here, and by a large margin, is the *data-wrangling* Tag. With it's 4.9 ratio it accounts for almost half of all observations in our top5 *Score-Tag_ratio*. All the other four Tags have their ratios distributed in a similar manner. Being all four represented in the range of 12%-13%.\n",
    "#### - Although we got distinct results per popularity proxy, we still can find a common Tag in both metrics: *data-wrangling*. And also faring quite a similar position in both metrics. Coming at first place in our *FavoriteCount-Tag_ratio*, and at second in our Score-Tag_ratio."
   ]
  },
  {
   "cell_type": "markdown",
   "metadata": {},
   "source": [
    "## === The Bottom Line ===\n",
    "\n",
    "#### After our analysis we can wrap and conclude the following:\n",
    "    1. Distinct popularity proxies produce very distinct results;\n",
    "    \n",
    "    2. Deep Learning subject related Posts, have been gaining traction along the years;\n",
    "    \n",
    "    3. Data-Wrangling is clearly a subject that deserves further attention, and one that's quite present in users minds;\n",
    "    \n",
    "    4. The use of grouped tags in the the Stack Exchange Data Explorer (SEDE) is related to their intrinsic relationship and dependency;\n",
    "    \n",
    "    5. The most viewed and most used tags in the SEDE are Machine-Learning and Python."
   ]
  }
 ],
 "metadata": {
  "kernelspec": {
   "display_name": "Python 3",
   "language": "python",
   "name": "python3"
  },
  "language_info": {
   "codemirror_mode": {
    "name": "ipython",
    "version": 3
   },
   "file_extension": ".py",
   "mimetype": "text/x-python",
   "name": "python",
   "nbconvert_exporter": "python",
   "pygments_lexer": "ipython3",
   "version": "3.4.3"
  }
 },
 "nbformat": 4,
 "nbformat_minor": 2
}
